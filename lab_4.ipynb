{
 "cells": [
  {
   "cell_type": "markdown",
   "metadata": {},
   "source": [
    "## Evaluation of student summaries\n",
    "### This notebook contains code and results of training modified bidirectional transformer BERT for regression task.\n",
    "The data was taken from kaggle: https://www.kaggle.com/competitions/commonlit-evaluate-student-summaries  \n",
    "The goal is to assess the quality of summaries written by students in grades 3-12. The model evaluates how well a student represents the main idea and details of a source text, as well as the clarity, precision, and fluency of the language used in the summary."
   ]
  },
  {
   "cell_type": "code",
   "execution_count": 17,
   "metadata": {
    "execution": {
     "iopub.execute_input": "2024-11-07T11:08:57.844019Z",
     "iopub.status.busy": "2024-11-07T11:08:57.843594Z",
     "iopub.status.idle": "2024-11-07T11:09:23.043497Z",
     "shell.execute_reply": "2024-11-07T11:09:23.042282Z",
     "shell.execute_reply.started": "2024-11-07T11:08:57.843989Z"
    },
    "id": "9MD7qmOPEWqM",
    "outputId": "2eb4baf0-1440-4ad2-b0be-b73f244c207f"
   },
   "outputs": [
    {
     "name": "stdout",
     "output_type": "stream",
     "text": [
      "Requirement already satisfied: transformers in /opt/conda/lib/python3.10/site-packages (4.35.0)\n",
      "Requirement already satisfied: datasets in /opt/conda/lib/python3.10/site-packages (2.1.0)\n",
      "Requirement already satisfied: filelock in /opt/conda/lib/python3.10/site-packages (from transformers) (3.12.2)\n",
      "Requirement already satisfied: huggingface-hub<1.0,>=0.16.4 in /opt/conda/lib/python3.10/site-packages (from transformers) (0.26.2)\n",
      "Requirement already satisfied: numpy>=1.17 in /opt/conda/lib/python3.10/site-packages (from transformers) (1.24.3)\n",
      "Requirement already satisfied: packaging>=20.0 in /opt/conda/lib/python3.10/site-packages (from transformers) (21.3)\n",
      "Requirement already satisfied: pyyaml>=5.1 in /opt/conda/lib/python3.10/site-packages (from transformers) (6.0.1)\n",
      "Requirement already satisfied: regex!=2019.12.17 in /opt/conda/lib/python3.10/site-packages (from transformers) (2023.8.8)\n",
      "Requirement already satisfied: requests in /opt/conda/lib/python3.10/site-packages (from transformers) (2.31.0)\n",
      "Requirement already satisfied: tokenizers<0.15,>=0.14 in /opt/conda/lib/python3.10/site-packages (from transformers) (0.14.1)\n",
      "Requirement already satisfied: safetensors>=0.3.1 in /opt/conda/lib/python3.10/site-packages (from transformers) (0.4.5)\n",
      "Requirement already satisfied: tqdm>=4.27 in /opt/conda/lib/python3.10/site-packages (from transformers) (4.66.1)\n",
      "Requirement already satisfied: pyarrow>=5.0.0 in /opt/conda/lib/python3.10/site-packages (from datasets) (11.0.0)\n",
      "Requirement already satisfied: dill in /opt/conda/lib/python3.10/site-packages (from datasets) (0.3.7)\n",
      "Requirement already satisfied: pandas in /opt/conda/lib/python3.10/site-packages (from datasets) (2.0.3)\n",
      "Requirement already satisfied: xxhash in /opt/conda/lib/python3.10/site-packages (from datasets) (3.4.1)\n",
      "Requirement already satisfied: multiprocess in /opt/conda/lib/python3.10/site-packages (from datasets) (0.70.15)\n",
      "Requirement already satisfied: fsspec[http]>=2021.05.0 in /opt/conda/lib/python3.10/site-packages (from datasets) (2023.10.0)\n",
      "Requirement already satisfied: aiohttp in /opt/conda/lib/python3.10/site-packages (from datasets) (3.8.5)\n",
      "Requirement already satisfied: responses<0.19 in /opt/conda/lib/python3.10/site-packages (from datasets) (0.18.0)\n",
      "Requirement already satisfied: attrs>=17.3.0 in /opt/conda/lib/python3.10/site-packages (from aiohttp->datasets) (23.1.0)\n",
      "Requirement already satisfied: charset-normalizer<4.0,>=2.0 in /opt/conda/lib/python3.10/site-packages (from aiohttp->datasets) (3.2.0)\n",
      "Requirement already satisfied: multidict<7.0,>=4.5 in /opt/conda/lib/python3.10/site-packages (from aiohttp->datasets) (6.0.4)\n",
      "Requirement already satisfied: async-timeout<5.0,>=4.0.0a3 in /opt/conda/lib/python3.10/site-packages (from aiohttp->datasets) (4.0.3)\n",
      "Requirement already satisfied: yarl<2.0,>=1.0 in /opt/conda/lib/python3.10/site-packages (from aiohttp->datasets) (1.9.2)\n",
      "Requirement already satisfied: frozenlist>=1.1.1 in /opt/conda/lib/python3.10/site-packages (from aiohttp->datasets) (1.4.0)\n",
      "Requirement already satisfied: aiosignal>=1.1.2 in /opt/conda/lib/python3.10/site-packages (from aiohttp->datasets) (1.3.1)\n",
      "Requirement already satisfied: typing-extensions>=3.7.4.3 in /opt/conda/lib/python3.10/site-packages (from huggingface-hub<1.0,>=0.16.4->transformers) (4.5.0)\n",
      "Requirement already satisfied: pyparsing!=3.0.5,>=2.0.2 in /opt/conda/lib/python3.10/site-packages (from packaging>=20.0->transformers) (3.0.9)\n",
      "Requirement already satisfied: idna<4,>=2.5 in /opt/conda/lib/python3.10/site-packages (from requests->transformers) (3.4)\n",
      "Requirement already satisfied: urllib3<3,>=1.21.1 in /opt/conda/lib/python3.10/site-packages (from requests->transformers) (1.26.15)\n",
      "Requirement already satisfied: certifi>=2017.4.17 in /opt/conda/lib/python3.10/site-packages (from requests->transformers) (2023.7.22)\n",
      "Collecting huggingface-hub<1.0,>=0.16.4 (from transformers)\n",
      "  Obtaining dependency information for huggingface-hub<1.0,>=0.16.4 from https://files.pythonhosted.org/packages/aa/f3/3fc97336a0e90516901befd4f500f08d691034d387406fdbde85bea827cc/huggingface_hub-0.17.3-py3-none-any.whl.metadata\n",
      "  Using cached huggingface_hub-0.17.3-py3-none-any.whl.metadata (13 kB)\n",
      "Requirement already satisfied: python-dateutil>=2.8.2 in /opt/conda/lib/python3.10/site-packages (from pandas->datasets) (2.8.2)\n",
      "Requirement already satisfied: pytz>=2020.1 in /opt/conda/lib/python3.10/site-packages (from pandas->datasets) (2023.3)\n",
      "Requirement already satisfied: tzdata>=2022.1 in /opt/conda/lib/python3.10/site-packages (from pandas->datasets) (2023.3)\n",
      "Requirement already satisfied: six>=1.5 in /opt/conda/lib/python3.10/site-packages (from python-dateutil>=2.8.2->pandas->datasets) (1.16.0)\n",
      "Using cached huggingface_hub-0.17.3-py3-none-any.whl (295 kB)\n",
      "Installing collected packages: huggingface-hub\n",
      "  Attempting uninstall: huggingface-hub\n",
      "    Found existing installation: huggingface-hub 0.26.2\n",
      "    Uninstalling huggingface-hub-0.26.2:\n",
      "      Successfully uninstalled huggingface-hub-0.26.2\n",
      "\u001b[31mERROR: pip's dependency resolver does not currently take into account all the packages that are installed. This behaviour is the source of the following dependency conflicts.\n",
      "accelerate 1.1.1 requires huggingface-hub>=0.21.0, but you have huggingface-hub 0.17.3 which is incompatible.\u001b[0m\u001b[31m\n",
      "\u001b[0mSuccessfully installed huggingface-hub-0.17.3\n",
      "Requirement already satisfied: accelerate in /opt/conda/lib/python3.10/site-packages (1.1.1)\n",
      "Collecting huggingface-hub>=0.21.0 (from accelerate)\n",
      "  Obtaining dependency information for huggingface-hub>=0.21.0 from https://files.pythonhosted.org/packages/60/bf/cea0b9720c32fa01b0c4ec4b16b9f4ae34ca106b202ebbae9f03ab98cd8f/huggingface_hub-0.26.2-py3-none-any.whl.metadata\n",
      "  Using cached huggingface_hub-0.26.2-py3-none-any.whl.metadata (13 kB)\n",
      "Requirement already satisfied: numpy<3.0.0,>=1.17 in /opt/conda/lib/python3.10/site-packages (from accelerate) (1.24.3)\n",
      "Requirement already satisfied: packaging>=20.0 in /opt/conda/lib/python3.10/site-packages (from accelerate) (21.3)\n",
      "Requirement already satisfied: psutil in /opt/conda/lib/python3.10/site-packages (from accelerate) (5.9.3)\n",
      "Requirement already satisfied: pyyaml in /opt/conda/lib/python3.10/site-packages (from accelerate) (6.0.1)\n",
      "Requirement already satisfied: safetensors>=0.4.3 in /opt/conda/lib/python3.10/site-packages (from accelerate) (0.4.5)\n",
      "Requirement already satisfied: torch>=1.10.0 in /opt/conda/lib/python3.10/site-packages (from accelerate) (2.0.0)\n",
      "Requirement already satisfied: filelock in /opt/conda/lib/python3.10/site-packages (from huggingface-hub>=0.21.0->accelerate) (3.12.2)\n",
      "Requirement already satisfied: fsspec>=2023.5.0 in /opt/conda/lib/python3.10/site-packages (from huggingface-hub>=0.21.0->accelerate) (2023.10.0)\n",
      "Requirement already satisfied: requests in /opt/conda/lib/python3.10/site-packages (from huggingface-hub>=0.21.0->accelerate) (2.31.0)\n",
      "Requirement already satisfied: tqdm>=4.42.1 in /opt/conda/lib/python3.10/site-packages (from huggingface-hub>=0.21.0->accelerate) (4.66.1)\n",
      "Requirement already satisfied: typing-extensions>=3.7.4.3 in /opt/conda/lib/python3.10/site-packages (from huggingface-hub>=0.21.0->accelerate) (4.5.0)\n",
      "Requirement already satisfied: pyparsing!=3.0.5,>=2.0.2 in /opt/conda/lib/python3.10/site-packages (from packaging>=20.0->accelerate) (3.0.9)\n",
      "Requirement already satisfied: sympy in /opt/conda/lib/python3.10/site-packages (from torch>=1.10.0->accelerate) (1.12)\n",
      "Requirement already satisfied: networkx in /opt/conda/lib/python3.10/site-packages (from torch>=1.10.0->accelerate) (3.1)\n",
      "Requirement already satisfied: jinja2 in /opt/conda/lib/python3.10/site-packages (from torch>=1.10.0->accelerate) (3.1.2)\n",
      "Requirement already satisfied: MarkupSafe>=2.0 in /opt/conda/lib/python3.10/site-packages (from jinja2->torch>=1.10.0->accelerate) (2.1.3)\n",
      "Requirement already satisfied: charset-normalizer<4,>=2 in /opt/conda/lib/python3.10/site-packages (from requests->huggingface-hub>=0.21.0->accelerate) (3.2.0)\n",
      "Requirement already satisfied: idna<4,>=2.5 in /opt/conda/lib/python3.10/site-packages (from requests->huggingface-hub>=0.21.0->accelerate) (3.4)\n",
      "Requirement already satisfied: urllib3<3,>=1.21.1 in /opt/conda/lib/python3.10/site-packages (from requests->huggingface-hub>=0.21.0->accelerate) (1.26.15)\n",
      "Requirement already satisfied: certifi>=2017.4.17 in /opt/conda/lib/python3.10/site-packages (from requests->huggingface-hub>=0.21.0->accelerate) (2023.7.22)\n",
      "Requirement already satisfied: mpmath>=0.19 in /opt/conda/lib/python3.10/site-packages (from sympy->torch>=1.10.0->accelerate) (1.3.0)\n",
      "Using cached huggingface_hub-0.26.2-py3-none-any.whl (447 kB)\n",
      "Installing collected packages: huggingface-hub\n",
      "  Attempting uninstall: huggingface-hub\n",
      "    Found existing installation: huggingface-hub 0.17.3\n",
      "    Uninstalling huggingface-hub-0.17.3:\n",
      "      Successfully uninstalled huggingface-hub-0.17.3\n",
      "\u001b[31mERROR: pip's dependency resolver does not currently take into account all the packages that are installed. This behaviour is the source of the following dependency conflicts.\n",
      "tokenizers 0.14.1 requires huggingface_hub<0.18,>=0.16.4, but you have huggingface-hub 0.26.2 which is incompatible.\u001b[0m\u001b[31m\n",
      "\u001b[0mSuccessfully installed huggingface-hub-0.26.2\n"
     ]
    }
   ],
   "source": [
    "!pip install transformers datasets\n",
    "!pip install accelerate -U\n",
    "import torch\n",
    "from torch.utils.data import DataLoader, TensorDataset\n",
    "from transformers import BertTokenizer, BertForSequenceClassification, AdamW, get_linear_schedule_with_warmup\n",
    "from sklearn.model_selection import KFold\n",
    "from torch.optim.lr_scheduler import ReduceLROnPlateau\n",
    "import numpy as np\n",
    "import pandas as pd\n",
    "from sklearn.metrics import mean_squared_error\n",
    "from sklearn.model_selection import train_test_split\n",
    "from datasets import Dataset, DatasetDict\n",
    "from sklearn.metrics import mean_absolute_error\n",
    "from sklearn.metrics import mean_squared_error\n",
    "from sklearn.metrics import r2_score\n",
    "from transformers import BertForSequenceClassification, BertConfig\n",
    "import torch.nn as nn\n",
    "import torch.nn.functional as F\n",
    "from torch.optim import SGD\n",
    "from torch.optim.lr_scheduler import CosineAnnealingWarmRestarts\n",
    "from tqdm import tqdm"
   ]
  },
  {
   "cell_type": "markdown",
   "metadata": {},
   "source": [
    "### In the next cells I will concatenate 2 dataframes and then use tokenized columns ('text', 'prompt_text', 'prompt_title', 'prompt_question') as input data."
   ]
  },
  {
   "cell_type": "code",
   "execution_count": 18,
   "metadata": {
    "execution": {
     "iopub.execute_input": "2024-11-07T11:09:23.046249Z",
     "iopub.status.busy": "2024-11-07T11:09:23.045897Z",
     "iopub.status.idle": "2024-11-07T11:09:23.118229Z",
     "shell.execute_reply": "2024-11-07T11:09:23.117251Z",
     "shell.execute_reply.started": "2024-11-07T11:09:23.046222Z"
    },
    "id": "FakyGgQSFcvX",
    "outputId": "626dfa2c-a10d-43b9-d4c0-5138b972f898"
   },
   "outputs": [
    {
     "name": "stdout",
     "output_type": "stream",
     "text": [
      "  prompt_id                                    prompt_question  \\\n",
      "0    39c16e  Summarize at least 3 elements of an ideal trag...   \n",
      "1    3b9047  In complete sentences, summarize the structure...   \n",
      "2    814d6b  Summarize how the Third Wave developed over su...   \n",
      "3    ebad26  Summarize the various ways the factory would u...   \n",
      "\n",
      "                prompt_title  \\\n",
      "0                 On Tragedy   \n",
      "1  Egyptian Social Structure   \n",
      "2             The Third Wave   \n",
      "3    Excerpt from The Jungle   \n",
      "\n",
      "                                         prompt_text  \n",
      "0  Chapter 13 \\r\\nAs the sequel to what has alrea...  \n",
      "1  Egyptian society was structured like a pyramid...  \n",
      "2  Background \\r\\nThe Third Wave experiment took ...  \n",
      "3  With one member trimming beef in a cannery, an...  \n",
      "     student_id prompt_id                                               text  \\\n",
      "0  000e8c3c7ddb    814d6b  The third wave was an experimentto see how peo...   \n",
      "1  0020ae56ffbf    ebad26  They would rub it up with soda to make the sme...   \n",
      "2  004e978e639e    3b9047  In Egypt, there were many occupations and soci...   \n",
      "3  005ab0199905    3b9047  The highest class was Pharaohs these people we...   \n",
      "4  0070c9e7af47    814d6b  The Third Wave developed  rapidly because the ...   \n",
      "\n",
      "    content   wording  \n",
      "0  0.205683  0.380538  \n",
      "1 -0.548304  0.506755  \n",
      "2  3.128928  4.231226  \n",
      "3 -0.210614 -0.471415  \n",
      "4  3.272894  3.219757  \n"
     ]
    }
   ],
   "source": [
    "df_promts = pd.read_csv('/kaggle/input/commonlit-evaluate-student-summaries/prompts_train.csv')\n",
    "df_summaries = pd.read_csv('/kaggle/input/commonlit-evaluate-student-summaries/summaries_train.csv')\n",
    "\n",
    "print(df_promts.head(5))\n",
    "print(df_summaries.head(5))"
   ]
  },
  {
   "cell_type": "code",
   "execution_count": 19,
   "metadata": {
    "execution": {
     "iopub.execute_input": "2024-11-07T11:09:23.119878Z",
     "iopub.status.busy": "2024-11-07T11:09:23.119513Z",
     "iopub.status.idle": "2024-11-07T11:09:23.134609Z",
     "shell.execute_reply": "2024-11-07T11:09:23.133669Z",
     "shell.execute_reply.started": "2024-11-07T11:09:23.119846Z"
    },
    "id": "v3YB_NUTFi3h",
    "outputId": "75bed12f-d864-48e4-9de3-e24f498d5148"
   },
   "outputs": [
    {
     "name": "stdout",
     "output_type": "stream",
     "text": [
      "     student_id prompt_id                                               text  \\\n",
      "0  000e8c3c7ddb    814d6b  The third wave was an experimentto see how peo...   \n",
      "1  0020ae56ffbf    ebad26  They would rub it up with soda to make the sme...   \n",
      "2  004e978e639e    3b9047  In Egypt, there were many occupations and soci...   \n",
      "3  005ab0199905    3b9047  The highest class was Pharaohs these people we...   \n",
      "4  0070c9e7af47    814d6b  The Third Wave developed  rapidly because the ...   \n",
      "\n",
      "    content   wording                                    prompt_question  \\\n",
      "0  0.205683  0.380538  Summarize how the Third Wave developed over su...   \n",
      "1 -0.548304  0.506755  Summarize the various ways the factory would u...   \n",
      "2  3.128928  4.231226  In complete sentences, summarize the structure...   \n",
      "3 -0.210614 -0.471415  In complete sentences, summarize the structure...   \n",
      "4  3.272894  3.219757  Summarize how the Third Wave developed over su...   \n",
      "\n",
      "                prompt_title  \\\n",
      "0             The Third Wave   \n",
      "1    Excerpt from The Jungle   \n",
      "2  Egyptian Social Structure   \n",
      "3  Egyptian Social Structure   \n",
      "4             The Third Wave   \n",
      "\n",
      "                                         prompt_text  \n",
      "0  Background \\r\\nThe Third Wave experiment took ...  \n",
      "1  With one member trimming beef in a cannery, an...  \n",
      "2  Egyptian society was structured like a pyramid...  \n",
      "3  Egyptian society was structured like a pyramid...  \n",
      "4  Background \\r\\nThe Third Wave experiment took ...  \n"
     ]
    }
   ],
   "source": [
    "df_full = pd.merge(df_summaries, df_promts, how='left', left_on='prompt_id', right_on='prompt_id').iloc[:100, :]\n",
    "print(df_full.head(5))"
   ]
  },
  {
   "cell_type": "code",
   "execution_count": 20,
   "metadata": {
    "execution": {
     "iopub.execute_input": "2024-11-07T11:09:23.137475Z",
     "iopub.status.busy": "2024-11-07T11:09:23.137222Z",
     "iopub.status.idle": "2024-11-07T11:09:23.145790Z",
     "shell.execute_reply": "2024-11-07T11:09:23.144986Z",
     "shell.execute_reply.started": "2024-11-07T11:09:23.137454Z"
    },
    "id": "vghkHr86FlOF"
   },
   "outputs": [],
   "source": [
    "y = df_full[['content', 'wording']]\n",
    "X = df_full.drop(['content', 'wording', 'student_id', 'prompt_id'], axis=1)\n",
    "\n",
    "train_X_full, test_X, train_y_full, test_y = train_test_split(X, y, test_size=0.2, random_state=123)"
   ]
  },
  {
   "cell_type": "markdown",
   "metadata": {},
   "source": [
    "## Here I will use the next validation scheme:\n",
    " 1. Divide data (80/20) on train and test\n",
    " 1. Use train as data for KFold cross-validation for hyperparameter tuning, optimizer and scheduler selection\n",
    " 1. Pick the best combination (according to MCRMSE on validation folds) and train on 80% train. See the performance on test set\n",
    " 1. In the end pick the best configuration and train on the whole data for future inference"
   ]
  },
  {
   "cell_type": "code",
   "execution_count": 21,
   "metadata": {
    "execution": {
     "iopub.execute_input": "2024-11-07T11:09:23.147727Z",
     "iopub.status.busy": "2024-11-07T11:09:23.147295Z",
     "iopub.status.idle": "2024-11-07T11:09:23.334722Z",
     "shell.execute_reply": "2024-11-07T11:09:23.333683Z",
     "shell.execute_reply.started": "2024-11-07T11:09:23.147695Z"
    },
    "id": "LrGY-0MWFpV5"
   },
   "outputs": [
    {
     "name": "stderr",
     "output_type": "stream",
     "text": [
      "/opt/conda/lib/python3.10/site-packages/huggingface_hub/file_download.py:797: FutureWarning: `resume_download` is deprecated and will be removed in version 1.0.0. Downloads always resume when possible. If you want to force a new download, use `force_download=True`.\n",
      "  warnings.warn(\n"
     ]
    }
   ],
   "source": [
    "MAX_LENGTH = 256\n",
    "EPOCHS = 2\n",
    "CROSS_VAL_FOLDS = 2\n",
    "BATCH_SIZE = 4\n",
    "tokenizer = BertTokenizer.from_pretrained('bert-base-uncased')\n",
    "\n",
    "\n",
    "def tokenize_function(data):\n",
    "    tokens_text = tokenizer(data['text'].tolist(), padding='max_length', truncation=True, return_tensors=\"pt\", max_length=int(MAX_LENGTH)).to('cuda')\n",
    "    tokens_title = tokenizer(data['prompt_title'].tolist(), padding='max_length', truncation=True, return_tensors=\"pt\", max_length=int(MAX_LENGTH)).to('cuda')\n",
    "    tokens_question = tokenizer(data['prompt_question'].tolist(), padding='max_length', truncation=True, return_tensors=\"pt\", max_length=int(MAX_LENGTH)).to('cuda')\n",
    "    tokens_prompt = tokenizer(data['prompt_text'].tolist(), padding='max_length', truncation=True, return_tensors=\"pt\", max_length=int(MAX_LENGTH)).to('cuda')\n",
    "\n",
    "\n",
    "    combined_embeddings = torch.cat([\n",
    "        tokens_text['input_ids'],\n",
    "        tokens_title['input_ids'],\n",
    "        tokens_question['input_ids'],\n",
    "        tokens_prompt['input_ids']\n",
    "    ], dim=1)\n",
    "\n",
    "    combined_att = torch.cat([\n",
    "        tokens_text['attention_mask'],\n",
    "        tokens_title['attention_mask'],\n",
    "        tokens_question['attention_mask'],\n",
    "        tokens_prompt['attention_mask']\n",
    "    ], dim=1)\n",
    "\n",
    "    return {\n",
    "        'input_ids': combined_embeddings,\n",
    "        'attention_mask': combined_att\n",
    "    }\n",
    "\n",
    "def create_dataloader(tokenizer, data, labels, batch_size=BATCH_SIZE):\n",
    "    encodings = tokenize_function(data)\n",
    "    content_tensor = torch.tensor(labels['content'].tolist(), dtype=torch.float32).unsqueeze(1)\n",
    "    wording_tensor = torch.tensor(labels['wording'].tolist(), dtype=torch.float32).unsqueeze(1)\n",
    "    labels = torch.cat((content_tensor, wording_tensor), dim=1).to('cuda')\n",
    "    dataset = TensorDataset(encodings['input_ids'], encodings['attention_mask'], labels)\n",
    "    loader = DataLoader(dataset, batch_size=batch_size, shuffle=True)\n",
    "    return loader\n",
    "\n",
    "\n",
    "def train(model, train_loader, val_loader, optimizer, scheduler, num_epochs=3):\n",
    "    model.train()\n",
    "    mean_epoch_loss = 0\n",
    "    for epoch in range(num_epochs):\n",
    "        epoch_loss = 0\n",
    "        for batch in tqdm(train_loader):\n",
    "            optimizer.zero_grad()\n",
    "            input_ids, attention_mask, labels = batch\n",
    "            loss = model(input_ids, attention_mask=attention_mask, labels=labels)\n",
    "\n",
    "            loss.backward()\n",
    "            torch.nn.utils.clip_grad_norm_(model.parameters(), max_norm=10)\n",
    "            optimizer.step()\n",
    "            scheduler.step(loss.item())\n",
    "            epoch_loss += loss\n",
    "        epoch_loss /= len(train_loader)\n",
    "        if val_loader is not None:\n",
    "            val_loss = evaluate(model, val_loader)\n",
    "            print(f'Epoch [{epoch+1}/{num_epochs}], train loss: {epoch_loss}; val loss: {val_loss}')\n",
    "            mean_epoch_loss += val_loss\n",
    "        else:\n",
    "            print(f'Epoch [{epoch+1}/{num_epochs}], train loss: {epoch_loss}')\n",
    "            \n",
    "    mean_epoch_loss /= num_epochs\n",
    "    return mean_epoch_loss\n",
    "\n",
    "\n",
    "\n",
    "def evaluate(model, val_loader):\n",
    "    model.eval()\n",
    "\n",
    "    total_mcrmse = 0\n",
    "    with torch.no_grad():\n",
    "        for batch in val_loader:\n",
    "            input_ids, attention_mask, labels = batch\n",
    "            outputs = model(input_ids, attention_mask=attention_mask)\n",
    "            loss = torch.sqrt(torch.mean(nn.MSELoss(reduction='none')(outputs, labels), dim=0))\n",
    "            loss = loss.mean()\n",
    "            total_mcrmse += loss.item()\n",
    "\n",
    "    return total_mcrmse / len(val_loader)"
   ]
  },
  {
   "cell_type": "markdown",
   "metadata": {},
   "source": [
    "### Here I use BertForSequenceClassification model, but use it in regression task I will remove classfication head and substitute it with Linear layer with 2 outputs (because we have 2 targets)"
   ]
  },
  {
   "cell_type": "code",
   "execution_count": 22,
   "metadata": {
    "execution": {
     "iopub.execute_input": "2024-11-07T11:09:23.336243Z",
     "iopub.status.busy": "2024-11-07T11:09:23.335912Z",
     "iopub.status.idle": "2024-11-07T11:09:23.343875Z",
     "shell.execute_reply": "2024-11-07T11:09:23.342892Z",
     "shell.execute_reply.started": "2024-11-07T11:09:23.336216Z"
    },
    "id": "eEOBXRawSetq"
   },
   "outputs": [],
   "source": [
    "class BertForRegression(BertForSequenceClassification):\n",
    "    def __init__(self, config, num_labels=2):\n",
    "        super(BertForRegression, self).__init__(config)\n",
    "\n",
    "        self.classifier = nn.Identity()\n",
    "        self.regression_head = nn.Linear(config.hidden_size, num_labels)\n",
    "\n",
    "    def forward(self, input_ids, attention_mask=None, token_type_ids=None, position_ids=None, head_mask=None, labels=None):\n",
    "        outputs = self.bert(\n",
    "            input_ids,\n",
    "            attention_mask=attention_mask,\n",
    "            token_type_ids=token_type_ids,\n",
    "            position_ids=position_ids,\n",
    "            head_mask=head_mask\n",
    "        )\n",
    "\n",
    "        pooled_output = outputs.pooler_output\n",
    "        logits = self.regression_head(pooled_output)\n",
    "\n",
    "        if labels is not None:\n",
    "\n",
    "            loss = torch.sqrt(torch.mean(nn.MSELoss(reduction='none')(logits, labels), dim=0))\n",
    "            loss = loss.mean()\n",
    "            return loss\n",
    "\n",
    "        else:\n",
    "            return logits"
   ]
  },
  {
   "cell_type": "markdown",
   "metadata": {},
   "source": [
    "### In the next cell you can find all code for hyperparameters tuning, optimizer and scheduler selection. NOTE: I use extremely small amounts of everything (number of folds, epochs, optimizers, only 1 hyperparam) and only tiny part of the dataset (100 rows) because of GPU limitations (That's why the actual results will differ. I tried to tune with whole dataset but the results are lost due to gpu limitations.). In real world case I will try much more combinations to achieve better results (bacause company or client will provide computation power for it)."
   ]
  },
  {
   "cell_type": "code",
   "execution_count": 23,
   "metadata": {
    "execution": {
     "iopub.execute_input": "2024-11-07T11:09:23.345992Z",
     "iopub.status.busy": "2024-11-07T11:09:23.345339Z",
     "iopub.status.idle": "2024-11-07T11:14:09.128828Z",
     "shell.execute_reply": "2024-11-07T11:14:09.127926Z",
     "shell.execute_reply.started": "2024-11-07T11:09:23.345965Z"
    },
    "id": "sxY-pAkCOPN7",
    "outputId": "d9dd37c2-20f6-4e5a-9f14-2514b6d61ee5"
   },
   "outputs": [
    {
     "name": "stdout",
     "output_type": "stream",
     "text": [
      "Attention_heads: 12\n",
      "Optimizer: 0\n",
      "Scheduler: 0\n",
      "Fold [1/2]\n"
     ]
    },
    {
     "name": "stderr",
     "output_type": "stream",
     "text": [
      "/opt/conda/lib/python3.10/site-packages/transformers/optimization.py:411: FutureWarning: This implementation of AdamW is deprecated and will be removed in a future version. Use the PyTorch implementation torch.optim.AdamW instead, or set `no_deprecation_warning=True` to disable this warning\n",
      "  warnings.warn(\n",
      "100%|██████████| 10/10 [00:05<00:00,  1.94it/s]\n"
     ]
    },
    {
     "name": "stdout",
     "output_type": "stream",
     "text": [
      "Epoch [1/2], train loss: 2.369626998901367; val loss: 1.3815557539463044\n"
     ]
    },
    {
     "name": "stderr",
     "output_type": "stream",
     "text": [
      "100%|██████████| 10/10 [00:04<00:00,  2.04it/s]\n"
     ]
    },
    {
     "name": "stdout",
     "output_type": "stream",
     "text": [
      "Epoch [2/2], train loss: 1.1844604015350342; val loss: 1.2524237871170043\n",
      "Fold [2/2]\n"
     ]
    },
    {
     "name": "stderr",
     "output_type": "stream",
     "text": [
      "100%|██████████| 10/10 [00:05<00:00,  1.94it/s]\n"
     ]
    },
    {
     "name": "stdout",
     "output_type": "stream",
     "text": [
      "Epoch [1/2], train loss: 2.5993058681488037; val loss: 1.920615005493164\n"
     ]
    },
    {
     "name": "stderr",
     "output_type": "stream",
     "text": [
      "100%|██████████| 10/10 [00:04<00:00,  2.04it/s]\n"
     ]
    },
    {
     "name": "stdout",
     "output_type": "stream",
     "text": [
      "Epoch [2/2], train loss: 1.4168102741241455; val loss: 0.9898394286632538\n",
      "Attention_heads: 12\n",
      "Optimizer: 0\n",
      "Scheduler: 1\n",
      "Fold [1/2]\n"
     ]
    },
    {
     "name": "stderr",
     "output_type": "stream",
     "text": [
      "100%|██████████| 10/10 [00:05<00:00,  1.95it/s]\n"
     ]
    },
    {
     "name": "stdout",
     "output_type": "stream",
     "text": [
      "Epoch [1/2], train loss: 1.990362524986267; val loss: 1.1798411846160888\n"
     ]
    },
    {
     "name": "stderr",
     "output_type": "stream",
     "text": [
      "100%|██████████| 10/10 [00:04<00:00,  2.04it/s]\n"
     ]
    },
    {
     "name": "stdout",
     "output_type": "stream",
     "text": [
      "Epoch [2/2], train loss: 0.9838871955871582; val loss: 1.3100415110588073\n",
      "Fold [2/2]\n"
     ]
    },
    {
     "name": "stderr",
     "output_type": "stream",
     "text": [
      "100%|██████████| 10/10 [00:05<00:00,  1.95it/s]\n"
     ]
    },
    {
     "name": "stdout",
     "output_type": "stream",
     "text": [
      "Epoch [1/2], train loss: 3.2704098224639893; val loss: 3.0318283081054687\n"
     ]
    },
    {
     "name": "stderr",
     "output_type": "stream",
     "text": [
      "100%|██████████| 10/10 [00:04<00:00,  2.04it/s]\n"
     ]
    },
    {
     "name": "stdout",
     "output_type": "stream",
     "text": [
      "Epoch [2/2], train loss: 1.5483254194259644; val loss: 0.9714486062526703\n",
      "Attention_heads: 12\n",
      "Optimizer: 1\n",
      "Scheduler: 0\n",
      "Fold [1/2]\n"
     ]
    },
    {
     "name": "stderr",
     "output_type": "stream",
     "text": [
      "100%|██████████| 10/10 [00:05<00:00,  1.98it/s]\n"
     ]
    },
    {
     "name": "stdout",
     "output_type": "stream",
     "text": [
      "Epoch [1/2], train loss: 0.9289378523826599; val loss: 1.1448850989341737\n"
     ]
    },
    {
     "name": "stderr",
     "output_type": "stream",
     "text": [
      "100%|██████████| 10/10 [00:04<00:00,  2.08it/s]\n"
     ]
    },
    {
     "name": "stdout",
     "output_type": "stream",
     "text": [
      "Epoch [2/2], train loss: 0.9959650039672852; val loss: 1.1329945385456086\n",
      "Fold [2/2]\n"
     ]
    },
    {
     "name": "stderr",
     "output_type": "stream",
     "text": [
      "100%|██████████| 10/10 [00:05<00:00,  1.98it/s]\n"
     ]
    },
    {
     "name": "stdout",
     "output_type": "stream",
     "text": [
      "Epoch [1/2], train loss: 1.2232327461242676; val loss: 1.1469702124595642\n"
     ]
    },
    {
     "name": "stderr",
     "output_type": "stream",
     "text": [
      "100%|██████████| 10/10 [00:04<00:00,  2.08it/s]\n"
     ]
    },
    {
     "name": "stdout",
     "output_type": "stream",
     "text": [
      "Epoch [2/2], train loss: 1.3823826313018799; val loss: 1.069501918554306\n",
      "Attention_heads: 12\n",
      "Optimizer: 1\n",
      "Scheduler: 1\n",
      "Fold [1/2]\n"
     ]
    },
    {
     "name": "stderr",
     "output_type": "stream",
     "text": [
      "100%|██████████| 10/10 [00:05<00:00,  1.98it/s]\n"
     ]
    },
    {
     "name": "stdout",
     "output_type": "stream",
     "text": [
      "Epoch [1/2], train loss: 0.9192096590995789; val loss: 1.4832491397857666\n"
     ]
    },
    {
     "name": "stderr",
     "output_type": "stream",
     "text": [
      "100%|██████████| 10/10 [00:04<00:00,  2.08it/s]\n"
     ]
    },
    {
     "name": "stdout",
     "output_type": "stream",
     "text": [
      "Epoch [2/2], train loss: 1.0882930755615234; val loss: 1.1736315608024597\n",
      "Fold [2/2]\n"
     ]
    },
    {
     "name": "stderr",
     "output_type": "stream",
     "text": [
      "100%|██████████| 10/10 [00:05<00:00,  1.97it/s]\n"
     ]
    },
    {
     "name": "stdout",
     "output_type": "stream",
     "text": [
      "Epoch [1/2], train loss: 1.1724978685379028; val loss: 1.6468510270118712\n"
     ]
    },
    {
     "name": "stderr",
     "output_type": "stream",
     "text": [
      "100%|██████████| 10/10 [00:04<00:00,  2.08it/s]\n"
     ]
    },
    {
     "name": "stdout",
     "output_type": "stream",
     "text": [
      "Epoch [2/2], train loss: 1.4965204000473022; val loss: 1.0209448635578156\n",
      "Attention_heads: 16\n",
      "Optimizer: 0\n",
      "Scheduler: 0\n",
      "Fold [1/2]\n"
     ]
    },
    {
     "name": "stderr",
     "output_type": "stream",
     "text": [
      "100%|██████████| 10/10 [00:05<00:00,  1.77it/s]\n"
     ]
    },
    {
     "name": "stdout",
     "output_type": "stream",
     "text": [
      "Epoch [1/2], train loss: 2.7595763206481934; val loss: 1.6515775322914124\n"
     ]
    },
    {
     "name": "stderr",
     "output_type": "stream",
     "text": [
      "100%|██████████| 10/10 [00:05<00:00,  1.88it/s]\n"
     ]
    },
    {
     "name": "stdout",
     "output_type": "stream",
     "text": [
      "Epoch [2/2], train loss: 1.1803157329559326; val loss: 1.102263516187668\n",
      "Fold [2/2]\n"
     ]
    },
    {
     "name": "stderr",
     "output_type": "stream",
     "text": [
      "100%|██████████| 10/10 [00:05<00:00,  1.78it/s]\n"
     ]
    },
    {
     "name": "stdout",
     "output_type": "stream",
     "text": [
      "Epoch [1/2], train loss: 2.6118927001953125; val loss: 1.0201509714126586\n"
     ]
    },
    {
     "name": "stderr",
     "output_type": "stream",
     "text": [
      "100%|██████████| 10/10 [00:05<00:00,  1.88it/s]\n"
     ]
    },
    {
     "name": "stdout",
     "output_type": "stream",
     "text": [
      "Epoch [2/2], train loss: 1.2484875917434692; val loss: 1.2586152255535126\n",
      "Attention_heads: 16\n",
      "Optimizer: 0\n",
      "Scheduler: 1\n",
      "Fold [1/2]\n"
     ]
    },
    {
     "name": "stderr",
     "output_type": "stream",
     "text": [
      "100%|██████████| 10/10 [00:05<00:00,  1.71it/s]\n"
     ]
    },
    {
     "name": "stdout",
     "output_type": "stream",
     "text": [
      "Epoch [1/2], train loss: 2.8102524280548096; val loss: 1.4641109108924866\n"
     ]
    },
    {
     "name": "stderr",
     "output_type": "stream",
     "text": [
      "100%|██████████| 10/10 [00:05<00:00,  1.88it/s]\n"
     ]
    },
    {
     "name": "stdout",
     "output_type": "stream",
     "text": [
      "Epoch [2/2], train loss: 1.3699836730957031; val loss: 1.1228171110153198\n",
      "Fold [2/2]\n"
     ]
    },
    {
     "name": "stderr",
     "output_type": "stream",
     "text": [
      "100%|██████████| 10/10 [00:05<00:00,  1.78it/s]\n"
     ]
    },
    {
     "name": "stdout",
     "output_type": "stream",
     "text": [
      "Epoch [1/2], train loss: 1.9330085515975952; val loss: 1.072687065601349\n"
     ]
    },
    {
     "name": "stderr",
     "output_type": "stream",
     "text": [
      "100%|██████████| 10/10 [00:05<00:00,  1.88it/s]\n"
     ]
    },
    {
     "name": "stdout",
     "output_type": "stream",
     "text": [
      "Epoch [2/2], train loss: 1.3062061071395874; val loss: 0.9637671768665313\n",
      "Attention_heads: 16\n",
      "Optimizer: 1\n",
      "Scheduler: 0\n",
      "Fold [1/2]\n"
     ]
    },
    {
     "name": "stderr",
     "output_type": "stream",
     "text": [
      "100%|██████████| 10/10 [00:05<00:00,  1.81it/s]\n"
     ]
    },
    {
     "name": "stdout",
     "output_type": "stream",
     "text": [
      "Epoch [1/2], train loss: 0.987236499786377; val loss: 1.050460261106491\n"
     ]
    },
    {
     "name": "stderr",
     "output_type": "stream",
     "text": [
      "100%|██████████| 10/10 [00:05<00:00,  1.91it/s]\n"
     ]
    },
    {
     "name": "stdout",
     "output_type": "stream",
     "text": [
      "Epoch [2/2], train loss: 0.8881767392158508; val loss: 1.1044652104377746\n",
      "Fold [2/2]\n"
     ]
    },
    {
     "name": "stderr",
     "output_type": "stream",
     "text": [
      "100%|██████████| 10/10 [00:05<00:00,  1.80it/s]\n"
     ]
    },
    {
     "name": "stdout",
     "output_type": "stream",
     "text": [
      "Epoch [1/2], train loss: 1.1308187246322632; val loss: 0.8947141706943512\n"
     ]
    },
    {
     "name": "stderr",
     "output_type": "stream",
     "text": [
      "100%|██████████| 10/10 [00:05<00:00,  1.91it/s]\n"
     ]
    },
    {
     "name": "stdout",
     "output_type": "stream",
     "text": [
      "Epoch [2/2], train loss: 1.281121850013733; val loss: 0.872777235507965\n",
      "Attention_heads: 16\n",
      "Optimizer: 1\n",
      "Scheduler: 1\n",
      "Fold [1/2]\n"
     ]
    },
    {
     "name": "stderr",
     "output_type": "stream",
     "text": [
      "100%|██████████| 10/10 [00:05<00:00,  1.81it/s]\n"
     ]
    },
    {
     "name": "stdout",
     "output_type": "stream",
     "text": [
      "Epoch [1/2], train loss: 0.9366018176078796; val loss: 1.0698677510023118\n"
     ]
    },
    {
     "name": "stderr",
     "output_type": "stream",
     "text": [
      "100%|██████████| 10/10 [00:05<00:00,  1.91it/s]\n"
     ]
    },
    {
     "name": "stdout",
     "output_type": "stream",
     "text": [
      "Epoch [2/2], train loss: 1.2736071348190308; val loss: 1.1353367388248443\n",
      "Fold [2/2]\n"
     ]
    },
    {
     "name": "stderr",
     "output_type": "stream",
     "text": [
      "100%|██████████| 10/10 [00:05<00:00,  1.81it/s]\n"
     ]
    },
    {
     "name": "stdout",
     "output_type": "stream",
     "text": [
      "Epoch [1/2], train loss: 1.14113450050354; val loss: 1.0324052423238754\n"
     ]
    },
    {
     "name": "stderr",
     "output_type": "stream",
     "text": [
      "100%|██████████| 10/10 [00:05<00:00,  1.91it/s]\n"
     ]
    },
    {
     "name": "stdout",
     "output_type": "stream",
     "text": [
      "Epoch [2/2], train loss: 1.1391680240631104; val loss: 0.9635936737060546\n"
     ]
    }
   ],
   "source": [
    "kf = KFold(n_splits=CROSS_VAL_FOLDS, shuffle=True, random_state=123)\n",
    "\n",
    "attention_heads = [12, 16]\n",
    "best_metric = float('inf')\n",
    "best_model = None\n",
    "best_optimizer = None\n",
    "best_scheduler = None\n",
    "best_head_num = None\n",
    "\n",
    "\n",
    "for heads_num in range(2):\n",
    "  for optimizer_num in range(2):\n",
    "    for scheduler_num in range(2):\n",
    "      print(f'Attention_heads: {attention_heads[heads_num]}\\nOptimizer: {optimizer_num}\\nScheduler: {scheduler_num}')\n",
    "      mean_loss = 0\n",
    "      for fold, (train_idx, val_idx) in enumerate(kf.split(train_X_full)):\n",
    "          print(f'Fold [{fold+1}/{CROSS_VAL_FOLDS}]')\n",
    "          train_X, val_X = train_X_full.iloc[train_idx, :], train_X_full.iloc[val_idx, :]\n",
    "          train_y, val_y = train_y_full.iloc[train_idx, :], train_y_full.iloc[val_idx, :]\n",
    "\n",
    "          train_loader = create_dataloader(tokenizer, train_X, train_y)\n",
    "          val_loader = create_dataloader(tokenizer, val_X, val_y)\n",
    "\n",
    "          config = BertConfig.from_pretrained(\"bert-base-uncased\", max_position_embeddings=1024, ignore_mismatched_sizes=True, num_attention_heads=attention_heads[heads_num])\n",
    "          model = BertForRegression(config, num_labels=2).to('cuda')\n",
    "\n",
    "          total_steps = len(train_loader) * EPOCHS\n",
    "\n",
    "          optimizers = [\n",
    "              AdamW([\n",
    "          {'params': list(model.bert.parameters()), 'lr': 1e-3},\n",
    "          {'params': list(model.regression_head.parameters()), 'lr': 1e-3}\n",
    "            ]),\n",
    "              SGD([\n",
    "          {'params': list(model.bert.parameters()), 'lr': 1e-3, 'momentum': 0.9},\n",
    "          {'params': list(model.regression_head.parameters()), 'lr': 1e-2, 'momentum': 0.9}\n",
    "            ])\n",
    "          ]\n",
    "          optimizer = optimizers[optimizer_num]\n",
    "\n",
    "          schedulers = [\n",
    "              get_linear_schedule_with_warmup(\n",
    "              optimizer,\n",
    "              num_warmup_steps=int(0.1*total_steps),\n",
    "              num_training_steps=total_steps\n",
    "          ),\n",
    "              CosineAnnealingWarmRestarts(optimizer, T_0=10, T_mult=2)\n",
    "          ]\n",
    "\n",
    "          scheduler = schedulers[scheduler_num]\n",
    "          \n",
    "          mean_loss += train(model, train_loader, val_loader, optimizer, scheduler, num_epochs=EPOCHS)\n",
    "      mean_loss /= CROSS_VAL_FOLDS\n",
    "      if mean_loss < best_metric:\n",
    "          best_metric = mean_loss\n",
    "          best_model = model\n",
    "          best_optimizer = optimizer\n",
    "          best_scheduler = scheduler\n",
    "          best_head_num = attention_heads[heads_num]\n"
   ]
  },
  {
   "cell_type": "code",
   "execution_count": 24,
   "metadata": {
    "execution": {
     "iopub.execute_input": "2024-11-07T11:14:09.131795Z",
     "iopub.status.busy": "2024-11-07T11:14:09.131539Z",
     "iopub.status.idle": "2024-11-07T11:14:09.138630Z",
     "shell.execute_reply": "2024-11-07T11:14:09.137822Z",
     "shell.execute_reply.started": "2024-11-07T11:14:09.131773Z"
    }
   },
   "outputs": [
    {
     "name": "stdout",
     "output_type": "stream",
     "text": [
      "BertForRegression(\n",
      "  (bert): BertModel(\n",
      "    (embeddings): BertEmbeddings(\n",
      "      (word_embeddings): Embedding(30522, 768, padding_idx=0)\n",
      "      (position_embeddings): Embedding(1024, 768)\n",
      "      (token_type_embeddings): Embedding(2, 768)\n",
      "      (LayerNorm): LayerNorm((768,), eps=1e-12, elementwise_affine=True)\n",
      "      (dropout): Dropout(p=0.1, inplace=False)\n",
      "    )\n",
      "    (encoder): BertEncoder(\n",
      "      (layer): ModuleList(\n",
      "        (0-11): 12 x BertLayer(\n",
      "          (attention): BertAttention(\n",
      "            (self): BertSelfAttention(\n",
      "              (query): Linear(in_features=768, out_features=768, bias=True)\n",
      "              (key): Linear(in_features=768, out_features=768, bias=True)\n",
      "              (value): Linear(in_features=768, out_features=768, bias=True)\n",
      "              (dropout): Dropout(p=0.1, inplace=False)\n",
      "            )\n",
      "            (output): BertSelfOutput(\n",
      "              (dense): Linear(in_features=768, out_features=768, bias=True)\n",
      "              (LayerNorm): LayerNorm((768,), eps=1e-12, elementwise_affine=True)\n",
      "              (dropout): Dropout(p=0.1, inplace=False)\n",
      "            )\n",
      "          )\n",
      "          (intermediate): BertIntermediate(\n",
      "            (dense): Linear(in_features=768, out_features=3072, bias=True)\n",
      "            (intermediate_act_fn): GELUActivation()\n",
      "          )\n",
      "          (output): BertOutput(\n",
      "            (dense): Linear(in_features=3072, out_features=768, bias=True)\n",
      "            (LayerNorm): LayerNorm((768,), eps=1e-12, elementwise_affine=True)\n",
      "            (dropout): Dropout(p=0.1, inplace=False)\n",
      "          )\n",
      "        )\n",
      "      )\n",
      "    )\n",
      "    (pooler): BertPooler(\n",
      "      (dense): Linear(in_features=768, out_features=768, bias=True)\n",
      "      (activation): Tanh()\n",
      "    )\n",
      "  )\n",
      "  (dropout): Dropout(p=0.1, inplace=False)\n",
      "  (classifier): Identity()\n",
      "  (regression_head): Linear(in_features=768, out_features=2, bias=True)\n",
      ")\n",
      "SGD (\n",
      "Parameter Group 0\n",
      "    dampening: 0\n",
      "    differentiable: False\n",
      "    foreach: None\n",
      "    initial_lr: 0.001\n",
      "    lr: 0.00032488641142845156\n",
      "    maximize: False\n",
      "    momentum: 0.9\n",
      "    nesterov: False\n",
      "    weight_decay: 0\n",
      "\n",
      "Parameter Group 1\n",
      "    dampening: 0\n",
      "    differentiable: False\n",
      "    foreach: None\n",
      "    initial_lr: 0.01\n",
      "    lr: 0.0032488641142845156\n",
      "    maximize: False\n",
      "    momentum: 0.9\n",
      "    nesterov: False\n",
      "    weight_decay: 0\n",
      ")\n",
      "<torch.optim.lr_scheduler.LambdaLR object at 0x7cc110a5f8b0>\n",
      "16\n"
     ]
    }
   ],
   "source": [
    "print(best_model)\n",
    "print(best_optimizer)\n",
    "print(best_scheduler)\n",
    "print(best_head_num)"
   ]
  },
  {
   "cell_type": "markdown",
   "metadata": {},
   "source": [
    "### As you saw I tried to find the best optimizer and scheduler, but in the next cells I will use AdamW as optimizer and CosineAnnealing as scheduler, because they were the best when i tried tuning on the whole dataset. (Achieved ~0.67 MCRMSE on validation folds)."
   ]
  },
  {
   "cell_type": "code",
   "execution_count": 25,
   "metadata": {
    "execution": {
     "iopub.execute_input": "2024-11-07T11:14:09.140469Z",
     "iopub.status.busy": "2024-11-07T11:14:09.139881Z",
     "iopub.status.idle": "2024-11-07T12:27:25.565023Z",
     "shell.execute_reply": "2024-11-07T12:27:25.564139Z",
     "shell.execute_reply.started": "2024-11-07T11:14:09.140436Z"
    }
   },
   "outputs": [
    {
     "name": "stderr",
     "output_type": "stream",
     "text": [
      "/opt/conda/lib/python3.10/site-packages/huggingface_hub/file_download.py:797: FutureWarning: `resume_download` is deprecated and will be removed in version 1.0.0. Downloads always resume when possible. If you want to force a new download, use `force_download=True`.\n",
      "  warnings.warn(\n",
      "/opt/conda/lib/python3.10/site-packages/transformers/optimization.py:411: FutureWarning: This implementation of AdamW is deprecated and will be removed in a future version. Use the PyTorch implementation torch.optim.AdamW instead, or set `no_deprecation_warning=True` to disable this warning\n",
      "  warnings.warn(\n",
      "100%|██████████| 1433/1433 [13:27<00:00,  1.78it/s]\n"
     ]
    },
    {
     "name": "stdout",
     "output_type": "stream",
     "text": [
      "Epoch [1/5], train loss: 0.8239284157752991; val loss: 0.735413902317249\n"
     ]
    },
    {
     "name": "stderr",
     "output_type": "stream",
     "text": [
      "100%|██████████| 1433/1433 [12:42<00:00,  1.88it/s]\n"
     ]
    },
    {
     "name": "stdout",
     "output_type": "stream",
     "text": [
      "Epoch [2/5], train loss: 0.6165738701820374; val loss: 0.544245474268799\n"
     ]
    },
    {
     "name": "stderr",
     "output_type": "stream",
     "text": [
      "100%|██████████| 1433/1433 [12:42<00:00,  1.88it/s]\n"
     ]
    },
    {
     "name": "stdout",
     "output_type": "stream",
     "text": [
      "Epoch [3/5], train loss: 0.5825304985046387; val loss: 0.5707692950963974\n"
     ]
    },
    {
     "name": "stderr",
     "output_type": "stream",
     "text": [
      "100%|██████████| 1433/1433 [12:42<00:00,  1.88it/s]\n"
     ]
    },
    {
     "name": "stdout",
     "output_type": "stream",
     "text": [
      "Epoch [4/5], train loss: 0.549292266368866; val loss: 0.511124720314419\n"
     ]
    },
    {
     "name": "stderr",
     "output_type": "stream",
     "text": [
      "100%|██████████| 1433/1433 [12:43<00:00,  1.88it/s]\n"
     ]
    },
    {
     "name": "stdout",
     "output_type": "stream",
     "text": [
      "Epoch [5/5], train loss: 0.5145267248153687; val loss: 0.5197912452944806\n"
     ]
    },
    {
     "data": {
      "text/plain": [
       "0.5762689274582691"
      ]
     },
     "execution_count": 25,
     "metadata": {},
     "output_type": "execute_result"
    }
   ],
   "source": [
    "df_full = pd.merge(df_summaries, df_promts, how='left', left_on='prompt_id', right_on='prompt_id')\n",
    "y = df_full[['content', 'wording']]\n",
    "X = df_full.drop(['content', 'wording', 'student_id', 'prompt_id'], axis=1)\n",
    "\n",
    "train_X_full, test_X, train_y_full, test_y = train_test_split(X, y, test_size=0.2, random_state=123)\n",
    "\n",
    "train_loader = create_dataloader(tokenizer, train_X_full, train_y_full)\n",
    "val_loader = create_dataloader(tokenizer, test_X, test_y)\n",
    "\n",
    "config = BertConfig.from_pretrained(\"bert-base-uncased\", max_position_embeddings=1024, ignore_mismatched_sizes=True, num_attention_heads=best_head_num)\n",
    "model = BertForRegression(config, num_labels=2).to('cuda')\n",
    "\n",
    "total_steps = len(train_loader) * 5\n",
    "\n",
    "optimizer = AdamW([\n",
    "{'params': list(model.bert.parameters()), 'lr': 1e-5},\n",
    "{'params': list(model.regression_head.parameters()), 'lr': 1e-3}\n",
    "])\n",
    "\n",
    "scheduler = CosineAnnealingWarmRestarts(optimizer, T_0=10, T_mult=2)\n",
    "train(model, train_loader, val_loader=val_loader, optimizer=optimizer, scheduler=scheduler, num_epochs=5)"
   ]
  },
  {
   "cell_type": "markdown",
   "metadata": {},
   "source": [
    "### The next cell prints image with losses during training"
   ]
  },
  {
   "cell_type": "code",
   "execution_count": 5,
   "metadata": {},
   "outputs": [
    {
     "data": {
      "image/png": "[encoded data removed]",
      "text/plain": [
       "<Figure size 1920x1440 with 1 Axes>"
      ]
     },
     "metadata": {},
     "output_type": "display_data"
    }
   ],
   "source": [
    "from PIL import Image\n",
    "import matplotlib.pyplot as plt\n",
    "\n",
    "img = Image.open('loss.png')\n",
    "\n",
    "plt.figure(dpi=300)\n",
    "plt.imshow(img)\n",
    "plt.axis('off')\n",
    "plt.show()\n"
   ]
  }
 ],
 "metadata": {
  "accelerator": "GPU",
  "colab": {
   "gpuType": "T4",
   "provenance": []
  },
  "kaggle": {
   "accelerator": "gpu",
   "dataSources": [
    {
     "databundleVersionId": 6201832,
     "sourceId": 53482,
     "sourceType": "competition"
    }
   ],
   "dockerImageVersionId": 30580,
   "isGpuEnabled": true,
   "isInternetEnabled": true,
   "language": "python",
   "sourceType": "notebook"
  },
  "kernelspec": {
   "display_name": "Python 3 (ipykernel)",
   "language": "python",
   "name": "python3"
  },
  "language_info": {
   "codemirror_mode": {
    "name": "ipython",
    "version": 3
   },
   "file_extension": ".py",
   "mimetype": "text/x-python",
   "name": "python",
   "nbconvert_exporter": "python",
   "pygments_lexer": "ipython3",
   "version": "3.10.15"
  }
 },
 "nbformat": 4,
 "nbformat_minor": 4
}
